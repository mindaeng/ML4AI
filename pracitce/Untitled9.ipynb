{
  "nbformat": 4,
  "nbformat_minor": 0,
  "metadata": {
    "colab": {
      "provenance": [],
      "mount_file_id": "1uQDHLIBNGpOKEeU7vMEYpv7qB7af12V1",
      "authorship_tag": "ABX9TyM/tw3T4gWppoTJQxqYpKB3",
      "include_colab_link": true
    },
    "kernelspec": {
      "name": "python3",
      "display_name": "Python 3"
    },
    "language_info": {
      "name": "python"
    }
  },
  "cells": [
    {
      "cell_type": "markdown",
      "metadata": {
        "id": "view-in-github",
        "colab_type": "text"
      },
      "source": [
        "<a href=\"https://colab.research.google.com/github/mindaeng/ML4AI/blob/main/pracitce/Untitled9.ipynb\" target=\"_parent\"><img src=\"https://colab.research.google.com/assets/colab-badge.svg\" alt=\"Open In Colab\"/></a>"
      ]
    },
    {
      "cell_type": "code",
      "source": [
        "cd \"/content/drive/MyDrive\""
      ],
      "metadata": {
        "colab": {
          "base_uri": "https://localhost:8080/"
        },
        "id": "NIlpHvx7UE3D",
        "outputId": "1eb11734-03f0-43d1-ddf8-41163b2c658c"
      },
      "execution_count": 8,
      "outputs": [
        {
          "output_type": "stream",
          "name": "stdout",
          "text": [
            "/content/drive/MyDrive\n"
          ]
        }
      ]
    },
    {
      "cell_type": "code",
      "source": [
        "!git clone https://github.com/stefmolin/Hands-On-Data-Analysis-with-Pandas-2nd-edition.git"
      ],
      "metadata": {
        "colab": {
          "base_uri": "https://localhost:8080/"
        },
        "id": "eEbL1qhzUE06",
        "outputId": "5f6e32be-e17f-4d16-c54f-285b11c8acd7"
      },
      "execution_count": 2,
      "outputs": [
        {
          "output_type": "stream",
          "name": "stdout",
          "text": [
            "Cloning into 'Hands-On-Data-Analysis-with-Pandas-2nd-edition'...\n",
            "remote: Enumerating objects: 3415, done.\u001b[K\n",
            "remote: Counting objects: 100% (3415/3415), done.\u001b[K\n",
            "remote: Compressing objects: 100% (1235/1235), done.\u001b[K\n",
            "remote: Total 3415 (delta 2128), reused 3358 (delta 2117), pack-reused 0\u001b[K\n",
            "Receiving objects: 100% (3415/3415), 75.18 MiB | 12.16 MiB/s, done.\n",
            "Resolving deltas: 100% (2128/2128), done.\n",
            "Updating files: 100% (216/216), done.\n"
          ]
        }
      ]
    },
    {
      "cell_type": "code",
      "source": [
        "import os\n",
        "import sys\n",
        "sys.path.append(os.path.abspath('/content/drive/MyDrive/Hands-On-Data-Analysis-with-Pandas-2nd-edition/visual_aids'))"
      ],
      "metadata": {
        "id": "UIjoO-GceIJY"
      },
      "execution_count": 10,
      "outputs": []
    },
    {
      "cell_type": "code",
      "source": [
        "from visual_aids import stats_viz"
      ],
      "metadata": {
        "id": "qP-KT6tlUEy5"
      },
      "execution_count": 11,
      "outputs": []
    },
    {
      "cell_type": "code",
      "source": [],
      "metadata": {
        "id": "rp_nDUGWUEtc"
      },
      "execution_count": null,
      "outputs": []
    },
    {
      "cell_type": "code",
      "source": [],
      "metadata": {
        "id": "OH3PLYz0UEqy"
      },
      "execution_count": null,
      "outputs": []
    },
    {
      "cell_type": "code",
      "source": [],
      "metadata": {
        "id": "ahFDRuLRUEoX"
      },
      "execution_count": null,
      "outputs": []
    },
    {
      "cell_type": "code",
      "execution_count": null,
      "metadata": {
        "id": "5qoUMVExT9LI"
      },
      "outputs": [],
      "source": []
    }
  ]
}